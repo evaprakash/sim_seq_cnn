{
 "cells": [
  {
   "cell_type": "code",
   "execution_count": 1,
   "metadata": {},
   "outputs": [],
   "source": [
    "import numpy as np\n",
    "from sklearn.metrics import (roc_auc_score, average_precision_score)\n",
    "\n",
    "def load_preds(predfile):\n",
    "    fp = open(predfile, 'r')\n",
    "    preds = []\n",
    "    for line in fp:\n",
    "        c = line.split()\n",
    "        c[1] = float(c[1])\n",
    "        preds.append(c[1])\n",
    "    fp.close()\n",
    "    return np.array(preds)"
   ]
  },
  {
   "cell_type": "code",
   "execution_count": 2,
   "metadata": {},
   "outputs": [],
   "source": [
    "CELL_LINE = 'H1'\n",
    "train_pos_preds = load_preds('/users/eprakash/git/interpret-benchmark/data/dnase_positives/common_scripts/' + CELL_LINE + '/sequences/' + CELL_LINE + '_train_positives_preds.txt')\n",
    "train_neg_preds = load_preds('/users/eprakash/git/interpret-benchmark/data/dnase_positives/common_scripts/' + CELL_LINE + '/sequences/' + CELL_LINE + '_train_negatives_preds.txt')\n",
    "test_pos_preds = load_preds('/users/eprakash/git/interpret-benchmark/data/dnase_positives/common_scripts/' + CELL_LINE + '/sequences/' + CELL_LINE + '_test_positives_preds.txt')\n",
    "test_neg_preds = load_preds('/users/eprakash/git/interpret-benchmark/data/dnase_positives/common_scripts/' + CELL_LINE + '/sequences/' + CELL_LINE + '_test_negatives_short_preds.txt')"
   ]
  },
  {
   "cell_type": "code",
   "execution_count": 3,
   "metadata": {},
   "outputs": [
    {
     "name": "stdout",
     "output_type": "stream",
     "text": [
      "Train accuracy: 0.96245\n",
      "Test accuracy: 0.694263397475688\n"
     ]
    }
   ],
   "source": [
    "train_accuracy = (np.sum(train_pos_preds > 0) + np.sum(train_neg_preds < 0)) / (len(train_pos_preds) + len(train_neg_preds))\n",
    "test_accuracy = (np.sum(test_pos_preds > 0) + np.sum(test_neg_preds < 0)) / (len(test_pos_preds) + len(test_neg_preds))\n",
    "\n",
    "print(\"Train accuracy: \" + str(train_accuracy))\n",
    "print(\"Test accuracy: \" + str(test_accuracy))\n"
   ]
  },
  {
   "cell_type": "code",
   "execution_count": 4,
   "metadata": {},
   "outputs": [
    {
     "name": "stdout",
     "output_type": "stream",
     "text": [
      "Train auROC, auPRC:  0.9919210137500001 0.9877355368647369\n",
      "Test auROC, auPRC:  0.747263884805686 0.7833150720936195\n"
     ]
    }
   ],
   "source": [
    "train_true = np.concatenate((np.ones(len(train_pos_preds)), np.zeros(len(train_neg_preds))))\n",
    "train_scores = np.concatenate((train_pos_preds, train_neg_preds))\n",
    "train_auroc = roc_auc_score(train_true, train_scores)\n",
    "train_auprc = average_precision_score(train_true, train_scores)\n",
    "\n",
    "test_true = np.concatenate((np.ones(len(test_pos_preds)), np.zeros(len(test_neg_preds))))\n",
    "test_scores = np.concatenate((test_pos_preds, test_neg_preds))\n",
    "test_auroc = roc_auc_score(test_true, test_scores)\n",
    "test_auprc = average_precision_score(test_true, test_scores)\n",
    "\n",
    "print(\"Train auROC, auPRC: \", train_auroc, train_auprc)\n",
    "print(\"Test auROC, auPRC: \", test_auroc, test_auprc)"
   ]
  },
  {
   "cell_type": "code",
   "execution_count": 13,
   "metadata": {},
   "outputs": [
    {
     "name": "stdout",
     "output_type": "stream",
     "text": [
      "[[17103  2229]\n",
      " [ 9592  9740]]\n"
     ]
    }
   ],
   "source": [
    "from sklearn.metrics import confusion_matrix\n",
    "preds = np.concatenate((test_pos_preds, test_neg_preds))\n",
    "labels = np.concatenate((np.full(test_pos_preds.shape, 1), np.full(test_neg_preds.shape, 0)), axis = 0)\n",
    "print(confusion_matrix(labels, preds>0))"
   ]
  },
  {
   "cell_type": "code",
   "execution_count": null,
   "metadata": {},
   "outputs": [],
   "source": []
  }
 ],
 "metadata": {
  "kernelspec": {
   "display_name": "Python 3",
   "language": "python",
   "name": "python3"
  },
  "language_info": {
   "codemirror_mode": {
    "name": "ipython",
    "version": 3
   },
   "file_extension": ".py",
   "mimetype": "text/x-python",
   "name": "python",
   "nbconvert_exporter": "python",
   "pygments_lexer": "ipython3",
   "version": "3.7.6"
  }
 },
 "nbformat": 4,
 "nbformat_minor": 4
}
