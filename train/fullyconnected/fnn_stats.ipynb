{
 "cells": [
  {
   "cell_type": "code",
   "execution_count": 1,
   "metadata": {},
   "outputs": [],
   "source": [
    "from collections import OrderedDict\n",
    "import gzip\n",
    "import numpy as np\n",
    "def load_sequences_from_bedfile(seqfile):\n",
    "    seqs = []\n",
    "    seqname_to_motifs = OrderedDict()\n",
    "    fp = gzip.open(seqfile, \"rb\")\n",
    "    print(\"#Loading \" + seqfile + \" ...\")\n",
    "    for line in fp:\n",
    "        line=line.decode('utf8').split()\n",
    "        seqs.append(line[1])\n",
    "        if (len(line) > 2):\n",
    "            seqname_to_motifs[line[0]] = line[2]\n",
    "        else:\n",
    "            seqname_to_motifs[line[0]] = \"\"\n",
    "    fp.close()\n",
    "    print(\"#Loaded \" + str(len(seqs)) + \" sequences from \" + seqfile)\n",
    "    return np.array(seqs), seqname_to_motifs"
   ]
  },
  {
   "cell_type": "code",
   "execution_count": 3,
   "metadata": {},
   "outputs": [
    {
     "name": "stdout",
     "output_type": "stream",
     "text": [
      "#Loading /users/eprakash/git/interpret-benchmark/data/dnase_positives/common_scripts/H1/sequences/test_sim_positives.txt.gz ...\n",
      "#Loaded 17312 sequences from /users/eprakash/git/interpret-benchmark/data/dnase_positives/common_scripts/H1/sequences/test_sim_positives.txt.gz\n",
      "#Loading /users/eprakash/git/interpret-benchmark/data/dnase_positives/common_scripts/H1/sequences/test_sim_negatives.txt.gz ...\n",
      "#Loaded 182795 sequences from /users/eprakash/git/interpret-benchmark/data/dnase_positives/common_scripts/H1/sequences/test_sim_negatives.txt.gz\n"
     ]
    }
   ],
   "source": [
    "data_filename_test_positive = \"/users/eprakash/git/interpret-benchmark/data/dnase_positives/common_scripts/H1/sequences/test_sim_positives.txt.gz\"\n",
    "data_filename_test_negative = \"/users/eprakash/git/interpret-benchmark/data/dnase_positives/common_scripts/H1/sequences/test_sim_negatives.txt.gz\"\n",
    "\n",
    "pos_seqs, pos_seqname_to_motifs = load_sequences_from_bedfile(data_filename_test_positive)\n",
    "neg_seqs, neg_seqname_to_motifs = load_sequences_from_bedfile(data_filename_test_negative)\n",
    "neg_seqs = neg_seqs[:len(pos_seqs)]\n",
    "seqs = np.concatenate((pos_seqs, neg_seqs), axis = 0)\n",
    "\n",
    "#There were technically more negatives than positives in both the initial training and test sets.\n",
    "#However, the momma dragonn TwoStream data loader makes sure to only use as many negative sequences\n",
    "#as positive sequences if negatives_to_positives_ratio=1 (which it was). Thus, only the first len(pos_seqs)\n",
    "#neg_seqs were used in training/testing."
   ]
  },
  {
   "cell_type": "code",
   "execution_count": 4,
   "metadata": {},
   "outputs": [],
   "source": [
    "def one_hot_encode_along_channel_axis(sequence):\n",
    "    to_return = np.zeros((len(sequence),4), dtype=np.int8)\n",
    "    seq_to_one_hot_fill_in_array(zeros_array=to_return,\n",
    "                                 sequence=sequence, one_hot_axis=1)\n",
    "    return to_return\n",
    "\n",
    "def seq_to_one_hot_fill_in_array(zeros_array, sequence, one_hot_axis):\n",
    "    assert one_hot_axis==0 or one_hot_axis==1\n",
    "    if (one_hot_axis==0):\n",
    "        assert zeros_array.shape[1] == len(sequence)\n",
    "    elif (one_hot_axis==1): \n",
    "        assert zeros_array.shape[0] == len(sequence)\n",
    "    #will mutate zeros_array\n",
    "    for (i,char) in enumerate(sequence):\n",
    "        if (char==\"A\" or char==\"a\"):\n",
    "            char_idx = 0\n",
    "        elif (char==\"C\" or char==\"c\"):\n",
    "            char_idx = 1\n",
    "        elif (char==\"G\" or char==\"g\"):\n",
    "            char_idx = 2\n",
    "        elif (char==\"T\" or char==\"t\"):\n",
    "            char_idx = 3\n",
    "        elif (char==\"N\" or char==\"n\"):\n",
    "            continue #leave that pos as all 0's\n",
    "        else:\n",
    "            raise RuntimeError(\"Unsupported character: \"+str(char))\n",
    "        if (one_hot_axis==0):\n",
    "            zeros_array[char_idx,i] = 1\n",
    "        elif (one_hot_axis==1):\n",
    "            zeros_array[i,char_idx] = 1\n",
    "onehot_data = np.array([one_hot_encode_along_channel_axis(seq) for seq in seqs])"
   ]
  },
  {
   "cell_type": "code",
   "execution_count": 10,
   "metadata": {
    "scrolled": true
   },
   "outputs": [],
   "source": [
    "import keras\n",
    "from keras.models import model_from_json\n",
    "import tensorflow as tf\n",
    "\n",
    "model_weights = \"/users/eprakash/git/interpret-benchmark/data/dnase_positives/momma_dragonn_config/no_preinitialization/dense/H1/temp/model_files/record_1_model_BHYtD_modelWeights.h5\"\n",
    "model_json = \"/users/eprakash/git/interpret-benchmark/data/dnase_positives/momma_dragonn_config/no_preinitialization/dense/H1/temp/model_files/record_1_model_BHYtD_modelJson.json\"\n",
    "\n",
    "model = model_from_json(open(model_json).read())\n",
    "model.load_weights(model_weights)"
   ]
  },
  {
   "cell_type": "code",
   "execution_count": 11,
   "metadata": {},
   "outputs": [],
   "source": [
    "preds = model.predict(onehot_data)"
   ]
  },
  {
   "cell_type": "code",
   "execution_count": 14,
   "metadata": {},
   "outputs": [
    {
     "name": "stdout",
     "output_type": "stream",
     "text": [
      "[[10677  6635]\n",
      " [ 8977  8335]]\n"
     ]
    }
   ],
   "source": [
    "from sklearn.metrics import confusion_matrix\n",
    "labels = np.concatenate((np.full(pos_seqs.shape, 1), np.full(neg_seqs.shape, 0)), axis = 0)\n",
    "print(confusion_matrix(labels, preds>0.5))"
   ]
  }
 ],
 "metadata": {
  "kernelspec": {
   "display_name": "Python 3",
   "language": "python",
   "name": "python3"
  },
  "language_info": {
   "codemirror_mode": {
    "name": "ipython",
    "version": 3
   },
   "file_extension": ".py",
   "mimetype": "text/x-python",
   "name": "python",
   "nbconvert_exporter": "python",
   "pygments_lexer": "ipython3",
   "version": "3.7.6"
  }
 },
 "nbformat": 4,
 "nbformat_minor": 4
}
