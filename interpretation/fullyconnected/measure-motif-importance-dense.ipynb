{
 "cells": [
  {
   "cell_type": "code",
   "execution_count": 1,
   "metadata": {},
   "outputs": [
    {
     "name": "stderr",
     "output_type": "stream",
     "text": [
      "Using TensorFlow backend.\n"
     ]
    }
   ],
   "source": [
    "from __future__ import print_function\n",
    "import h5py\n",
    "import numpy as np\n",
    "import deeplift\n",
    "import evautils\n",
    "from scipy import stats\n",
    "from evautils import sequtils\n",
    "from collections import OrderedDict, defaultdict\n",
    "import os\n",
    "from sklearn.metrics import (\n",
    "    roc_auc_score, average_precision_score,\n",
    "    roc_curve, precision_recall_curve)"
   ]
  },
  {
   "cell_type": "code",
   "execution_count": 2,
   "metadata": {},
   "outputs": [],
   "source": [
    "REGION_SIZE = 400\n",
    "SCORES = '/users/eprakash/git/interpret-benchmark/scripts/project/H1_project.h5'\n",
    "POS_LABELS = '/users/eprakash/git/interpret-benchmark/data/dnase_positives/common_scripts/H1/sequences/top_10k_sim_positives.txt.gz'\n",
    "MOTIF_MATCHES='/users/eprakash/git/interpret-benchmark/data/dnase_positives/common_scripts/H1/sequences/reduced_sim_fimo_out/fimo.txt'"
   ]
  },
  {
   "cell_type": "code",
   "execution_count": 3,
   "metadata": {},
   "outputs": [
    {
     "name": "stdout",
     "output_type": "stream",
     "text": [
      "#Loading /users/eprakash/git/interpret-benchmark/data/dnase_positives/common_scripts/H1/sequences/reduced_sim_fimo_out/fimo.txt ...\n",
      "#Loaded 4452974 motif matches in 912909 sequences\n"
     ]
    }
   ],
   "source": [
    "motif_matches=sequtils.load_fimo_motif_matches(MOTIF_MATCHES, True)"
   ]
  },
  {
   "cell_type": "code",
   "execution_count": 4,
   "metadata": {},
   "outputs": [],
   "source": [
    "from collections import OrderedDict\n",
    "import gzip\n",
    "import numpy as np\n",
    "def load_labels_from_bedfile(seqfile):\n",
    "    seqs = []\n",
    "    fp = gzip.open(seqfile, \"rb\")\n",
    "    print(\"#Loading \" + seqfile + \" ...\")\n",
    "    for line in fp:\n",
    "        line=line.decode('utf8').split()\n",
    "        seqs.append(line[0])\n",
    "    fp.close()\n",
    "    print(\"#Loaded \" + str(len(seqs)) + \" seqnames from \" + seqfile)\n",
    "    return np.array(seqs)"
   ]
  },
  {
   "cell_type": "code",
   "execution_count": 5,
   "metadata": {},
   "outputs": [
    {
     "name": "stdout",
     "output_type": "stream",
     "text": [
      "#Loading /users/eprakash/git/interpret-benchmark/data/dnase_positives/common_scripts/H1/sequences/top_10k_sim_positives.txt.gz ...\n",
      "#Loaded 10000 seqnames from /users/eprakash/git/interpret-benchmark/data/dnase_positives/common_scripts/H1/sequences/top_10k_sim_positives.txt.gz\n",
      "<KeysViewHDF5 ['deeplift-rcrs_ref:shuff-20', 'deeplift-rs_ref:shuff-20', 'gradtimesinp_ref:allzeros', 'ig-20_ref:shuff-20', 'ism', 'seqids']>\n"
     ]
    }
   ],
   "source": [
    "h5f = h5py.File(SCORES,'r')\n",
    "pos_labels = load_labels_from_bedfile(POS_LABELS)\n",
    "print(h5f.keys())"
   ]
  },
  {
   "cell_type": "code",
   "execution_count": 6,
   "metadata": {},
   "outputs": [],
   "source": [
    "deeplift_rs_shuff20_scores=np.array(h5f.get(\"deeplift-rs_ref:shuff-20\"))\n",
    "deeplift_rcrs_shuff20_scores=np.array(h5f.get(\"deeplift-rcrs_ref:shuff-20\"))\n",
    "grad_times_input_allzeros_scores = np.array(h5f.get(\"gradtimesinp_ref:allzeros\"))\n",
    "ism_scores = np.array(h5f.get(\"ism\"))\n",
    "ig20_shuff20_scores =np.array(h5f.get(\"ig-20_ref:shuff-20\"))\n",
    "seqids = [x.decode('utf-8') for x in np.array(h5f.get(\"seqids\"))]\n",
    "h5f.close()"
   ]
  },
  {
   "cell_type": "code",
   "execution_count": 7,
   "metadata": {},
   "outputs": [
    {
     "name": "stdout",
     "output_type": "stream",
     "text": [
      "#Loading /users/eprakash/git/interpret-benchmark/data/dnase_positives/common_scripts/H1/sequences/reduced_sim_fimo_out/fimo.txt ...\n",
      "#Loaded 4452974 motif matches in 912909 sequences\n",
      "912909\n",
      "10000\n",
      "10000\n"
     ]
    }
   ],
   "source": [
    "motif_matches=sequtils.load_fimo_motif_matches(MOTIF_MATCHES, True)\n",
    "print(len(motif_matches))\n",
    "for key in list(motif_matches.keys()):\n",
    "    if key not in pos_labels:\n",
    "        del motif_matches[key]\n",
    "print(len(motif_matches))\n",
    "seq_ids_of_interest = list(motif_matches.keys())\n",
    "print(len(seq_ids_of_interest))"
   ]
  },
  {
   "cell_type": "code",
   "execution_count": 8,
   "metadata": {},
   "outputs": [
    {
     "name": "stdout",
     "output_type": "stream",
     "text": [
      "Motif matches sequences are 10000\n",
      "Supplied labels are 10000\n"
     ]
    }
   ],
   "source": [
    "seq_ids_of_interest_set = set(seq_ids_of_interest)\n",
    "relevant_indices_list, relevant_labels_list=sequtils.get_relevant_labels_in_order_of_scores(seqids, motif_matches)\n",
    "seq_ids_of_interest = relevant_labels_list\n",
    "seq_ids_of_interest_set = set(relevant_labels_list)\n",
    "deeplift_rcrs_shuff20_scores=sequtils.get_relevant_scores(relevant_indices_list, deeplift_rcrs_shuff20_scores, REGION_SIZE)\n",
    "grad_times_input_allzeros_scores = sequtils.get_relevant_scores(relevant_indices_list, grad_times_input_allzeros_scores, REGION_SIZE)\n",
    "ism_scores = sequtils.get_relevant_scores(relevant_indices_list, ism_scores, REGION_SIZE)\n",
    "ig20_shuff20_scores = sequtils.get_relevant_scores(relevant_indices_list, ig20_shuff20_scores, REGION_SIZE)"
   ]
  },
  {
   "cell_type": "code",
   "execution_count": 9,
   "metadata": {},
   "outputs": [],
   "source": [
    "method_to_saved_scores = OrderedDict([('grad_times_input', grad_times_input_allzeros_scores),\n",
    "                                      ('deeplift_rcrs_shuff20', deeplift_rcrs_shuff20_scores),\n",
    "                                      ('deeplift_rs_shuff20', deeplift_rs_shuff20_scores),\n",
    "                                      ('ig20_shuff20', ig20_shuff20_scores),\n",
    "                                      ('ism', ism_scores)])"
   ]
  },
  {
   "cell_type": "code",
   "execution_count": 10,
   "metadata": {
    "scrolled": false
   },
   "outputs": [
    {
     "name": "stdout",
     "output_type": "stream",
     "text": [
      "Num labels is 10000\n",
      "Method is grad_times_input\n",
      "Total auroc 0.5501862406607086\n",
      "Total auprc 0.38417691310867075\n",
      "Mean per sequence auroc 0.5279726382685289\n",
      "Mean per sequence auprc 0.3651297973222916\n",
      "Per sequence auroc stderr 0.0008390091999334232\n",
      "Per sequence auprc stderr 0.0013720928119002147\n",
      "\n",
      "\n",
      "Method is deeplift_rcrs_shuff20\n",
      "Total auroc 0.5340328071940192\n",
      "Total auprc 0.369665467746862\n",
      "Mean per sequence auroc 0.5391258805175269\n",
      "Mean per sequence auprc 0.3743592509197406\n",
      "Per sequence auroc stderr 0.0009428301262358434\n",
      "Per sequence auprc stderr 0.0012770885426484305\n",
      "\n",
      "\n",
      "Method is deeplift_rs_shuff20\n",
      "Total auroc 0.5425749245253325\n",
      "Total auprc 0.37604624031316264\n",
      "Mean per sequence auroc 0.5340946149679963\n",
      "Mean per sequence auprc 0.3703170862664871\n",
      "Per sequence auroc stderr 0.0008991134102827994\n",
      "Per sequence auprc stderr 0.0012783601728558578\n",
      "\n",
      "\n",
      "Method is ig20_shuff20\n",
      "Total auroc 0.542403001780556\n",
      "Total auprc 0.37588424507593415\n",
      "Mean per sequence auroc 0.5341221917257991\n",
      "Mean per sequence auprc 0.37035596188561615\n",
      "Per sequence auroc stderr 0.0008996842441339638\n",
      "Per sequence auprc stderr 0.0012781247983675412\n",
      "\n",
      "\n",
      "Method is ism\n",
      "Total auroc 0.5730827127354894\n",
      "Total auprc 0.407847499171278\n",
      "Mean per sequence auroc 0.5463432609746882\n",
      "Mean per sequence auprc 0.38250062083206104\n",
      "Per sequence auroc stderr 0.0008879760173327965\n",
      "Per sequence auprc stderr 0.0014080330340113289\n",
      "\n",
      "\n"
     ]
    }
   ],
   "source": [
    "# The non-DeepLIFT importance scoring methods proved to be irrelevant to the goals of the final project\n",
    "\n",
    "num_labels = len(relevant_labels_list)\n",
    "print(\"Num labels is \" + str(num_labels))\n",
    "per_seq_aurocs = []\n",
    "per_seq_auprcs = []\n",
    "for method in method_to_saved_scores:\n",
    "    total_labels = np.array([])\n",
    "    total_scores = np.array([])\n",
    "    for seq in range(num_labels):\n",
    "        motif_positions = set({})\n",
    "        seqname = relevant_labels_list[seq]\n",
    "        index = relevant_indices_list[seq]\n",
    "        scores = np.abs(np.array(method_to_saved_scores[method][index]))\n",
    "        labels = np.zeros(REGION_SIZE)\n",
    "        seqentries = motif_matches[seqname]\n",
    "        for entry in seqentries:\n",
    "                motif_positions.update(range(entry['begin'], entry['end']))\n",
    "        for i in motif_positions:\n",
    "            labels[i] = 1\n",
    "        total_scores = np.concatenate((total_scores, scores))\n",
    "        total_labels = np.concatenate((total_labels, labels))\n",
    "        per_seq_aurocs.append(roc_auc_score(y_true=labels, y_score=scores))\n",
    "        per_seq_auprcs.append(average_precision_score(y_true=labels, y_score=scores))\n",
    "    print(\"Method is \" + str(method))\n",
    "    print(\"Total auroc \" + str(roc_auc_score(y_true=total_labels, y_score=total_scores)))\n",
    "    print(\"Total auprc \" + str(average_precision_score(y_true=total_labels, y_score=total_scores)))\n",
    "    print(\"Mean per sequence auroc \" + str(np.mean(np.array(per_seq_aurocs))))\n",
    "    print(\"Mean per sequence auprc \" + str(np.mean(np.array(per_seq_auprcs))))\n",
    "    print(\"Per sequence auroc stderr \" + str(np.std(np.array(per_seq_aurocs))/np.sqrt(num_labels)))\n",
    "    print(\"Per sequence auprc stderr \" + str(np.std(np.array(per_seq_auprcs))/np.sqrt(num_labels)))\n",
    "    print(\"\\n\")\n",
    "    assert(len(per_seq_aurocs) == 10000)\n",
    "    per_seq_aurocs.clear()\n",
    "    per_seq_auprcs.clear()"
   ]
  }
 ],
 "metadata": {
  "anaconda-cloud": {},
  "kernelspec": {
   "display_name": "Python 3",
   "language": "python",
   "name": "python3"
  },
  "language_info": {
   "codemirror_mode": {
    "name": "ipython",
    "version": 3
   },
   "file_extension": ".py",
   "mimetype": "text/x-python",
   "name": "python",
   "nbconvert_exporter": "python",
   "pygments_lexer": "ipython3",
   "version": "3.7.6"
  }
 },
 "nbformat": 4,
 "nbformat_minor": 2
}
