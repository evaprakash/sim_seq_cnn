{
 "cells": [
  {
   "cell_type": "code",
   "execution_count": 1,
   "metadata": {},
   "outputs": [
    {
     "name": "stderr",
     "output_type": "stream",
     "text": [
      "Using TensorFlow backend.\n"
     ]
    }
   ],
   "source": [
    "from __future__ import print_function\n",
    "import h5py\n",
    "import numpy as np\n",
    "import deeplift\n",
    "import evautils\n",
    "from scipy import stats\n",
    "from evautils import sequtils\n",
    "from collections import OrderedDict, defaultdict\n",
    "import os\n",
    "from sklearn.metrics import (\n",
    "    roc_auc_score, average_precision_score,\n",
    "    roc_curve, precision_recall_curve)"
   ]
  },
  {
   "cell_type": "code",
   "execution_count": 2,
   "metadata": {},
   "outputs": [],
   "source": [
    "REGION_SIZE = 400\n",
    "POS_LABELS = '/users/eprakash/git/interpret-benchmark/data/dnase_positives/common_scripts/H1/sequences/top_10k_sim_positives.txt.gz'\n",
    "SCORES_FILE='/users/eprakash/git/interpret-benchmark/data/dnase_positives/common_scripts/H1/sequences/top_10k_sim_positives.gkmexplain.txt'\n",
    "MOTIF_MATCHES='/users/eprakash/git/interpret-benchmark/data/dnase_positives/common_scripts/H1/sequences/reduced_sim_fimo_out/fimo.txt'"
   ]
  },
  {
   "cell_type": "code",
   "execution_count": 3,
   "metadata": {},
   "outputs": [
    {
     "name": "stdout",
     "output_type": "stream",
     "text": [
      "#Loading /users/eprakash/git/interpret-benchmark/data/dnase_positives/common_scripts/H1/sequences/reduced_sim_fimo_out/fimo.txt ...\n",
      "#Loaded 4452974 motif matches in 912909 sequences\n"
     ]
    }
   ],
   "source": [
    "motif_matches=sequtils.load_fimo_motif_matches(MOTIF_MATCHES, True)"
   ]
  },
  {
   "cell_type": "code",
   "execution_count": 4,
   "metadata": {},
   "outputs": [],
   "source": [
    "from collections import OrderedDict\n",
    "import gzip\n",
    "import numpy as np\n",
    "def load_labels_from_bedfile(seqfile):\n",
    "    seqs = []\n",
    "    fp = gzip.open(seqfile, \"rb\")\n",
    "    print(\"#Loading \" + seqfile + \" ...\")\n",
    "    for line in fp:\n",
    "        line=line.decode('utf8').split()\n",
    "        seqs.append(line[0])\n",
    "    fp.close()\n",
    "    print(\"#Loaded \" + str(len(seqs)) + \" seqnames from \" + seqfile)\n",
    "    return np.array(seqs)"
   ]
  },
  {
   "cell_type": "code",
   "execution_count": 5,
   "metadata": {},
   "outputs": [
    {
     "name": "stdout",
     "output_type": "stream",
     "text": [
      "#Loading /users/eprakash/git/interpret-benchmark/data/dnase_positives/common_scripts/H1/sequences/top_10k_sim_positives.txt.gz ...\n",
      "#Loaded 10000 seqnames from /users/eprakash/git/interpret-benchmark/data/dnase_positives/common_scripts/H1/sequences/top_10k_sim_positives.txt.gz\n"
     ]
    }
   ],
   "source": [
    "impscores = [np.array( [[float(z) for z in y.split(\",\")] for y in x.rstrip().split(\"\\t\")[2].split(\";\")])for x in open(SCORES_FILE)]\n",
    "pos_labels = load_labels_from_bedfile(POS_LABELS)"
   ]
  },
  {
   "cell_type": "code",
   "execution_count": 7,
   "metadata": {},
   "outputs": [],
   "source": [
    "gkmexplain_scores = np.zeros((10000, 400, 4))\n",
    "gkm_index = 0\n",
    "for i in range(len(impscores)):\n",
    "    if impscores[i].shape != (400,4):\n",
    "        print(i)\n",
    "        pos_labels.pop(i)\n",
    "    else:\n",
    "        gkmexplain_scores[gkm_index] = impscores[i]\n",
    "        gkm_index = gkm_index + 1"
   ]
  },
  {
   "cell_type": "code",
   "execution_count": 8,
   "metadata": {},
   "outputs": [
    {
     "name": "stdout",
     "output_type": "stream",
     "text": [
      "(10000, 400, 4)\n",
      "(10000,)\n"
     ]
    }
   ],
   "source": [
    "pos_labels = np.array(pos_labels)\n",
    "print(gkmexplain_scores.shape)\n",
    "print(pos_labels.shape)"
   ]
  },
  {
   "cell_type": "code",
   "execution_count": 9,
   "metadata": {},
   "outputs": [
    {
     "name": "stdout",
     "output_type": "stream",
     "text": [
      "#Loading /users/eprakash/git/interpret-benchmark/data/dnase_positives/common_scripts/H1/sequences/reduced_sim_fimo_out/fimo.txt ...\n",
      "#Loaded 4452974 motif matches in 912909 sequences\n",
      "912909\n",
      "10000\n",
      "10000\n"
     ]
    }
   ],
   "source": [
    "motif_matches=sequtils.load_fimo_motif_matches(MOTIF_MATCHES, True)\n",
    "print(len(motif_matches))\n",
    "for key in list(motif_matches.keys()):\n",
    "    if key not in pos_labels:\n",
    "        del motif_matches[key]\n",
    "print(len(motif_matches))\n",
    "seq_ids_of_interest = list(motif_matches.keys())\n",
    "print(len(seq_ids_of_interest))"
   ]
  },
  {
   "cell_type": "code",
   "execution_count": 10,
   "metadata": {},
   "outputs": [
    {
     "name": "stdout",
     "output_type": "stream",
     "text": [
      "(10000, 400)\n"
     ]
    }
   ],
   "source": [
    "gkmexplain_scores = np.sum(gkmexplain_scores, axis=2)\n",
    "print(gkmexplain_scores.shape)"
   ]
  },
  {
   "cell_type": "code",
   "execution_count": 11,
   "metadata": {},
   "outputs": [
    {
     "name": "stdout",
     "output_type": "stream",
     "text": [
      "Motif matches sequences are 10000\n",
      "Supplied labels are 10000\n"
     ]
    }
   ],
   "source": [
    "seq_ids_of_interest_set = set(seq_ids_of_interest)\n",
    "relevant_indices_list, relevant_labels_list=sequtils.get_relevant_labels_in_order_of_scores(pos_labels, motif_matches)\n",
    "seq_ids_of_interest = relevant_labels_list\n",
    "seq_ids_of_interest_set = set(relevant_labels_list)\n",
    "\n",
    "gkmexplain_scores=sequtils.get_relevant_scores(relevant_indices_list, gkmexplain_scores, REGION_SIZE)"
   ]
  },
  {
   "cell_type": "code",
   "execution_count": 12,
   "metadata": {},
   "outputs": [],
   "source": [
    "method_to_saved_scores = OrderedDict([('gkmexplain', gkmexplain_scores)])"
   ]
  },
  {
   "cell_type": "code",
   "execution_count": 17,
   "metadata": {},
   "outputs": [
    {
     "name": "stdout",
     "output_type": "stream",
     "text": [
      "Num labels is 10000\n",
      "Method is gkmexplain\n",
      "Total auroc 0.7509883059917413\n",
      "Total auprc 0.6782913945630803\n",
      "Mean per sequence auroc 0.7610680777684656\n",
      "Mean per sequence auprc 0.7059797423847106\n",
      "Per sequence auroc stderr 0.0009344897979603309\n",
      "Per sequence auprc stderr 0.0011326562123443993\n",
      "\n",
      "\n"
     ]
    }
   ],
   "source": [
    "num_labels = len(relevant_labels_list)\n",
    "print(\"Num labels is \" + str(num_labels))\n",
    "per_seq_aurocs = []\n",
    "per_seq_auprcs = []\n",
    "for method in method_to_saved_scores:\n",
    "    total_labels = np.array([])\n",
    "    total_scores = np.array([])\n",
    "    for seq in range(num_labels):\n",
    "        motif_positions = set({})\n",
    "        seqname = relevant_labels_list[seq]\n",
    "        index = relevant_indices_list[seq]\n",
    "        scores = np.abs(np.array(method_to_saved_scores[method][index]))\n",
    "        labels = np.zeros(REGION_SIZE)\n",
    "        seqentries = motif_matches[seqname]\n",
    "        for entry in seqentries:\n",
    "                motif_positions.update(range(entry['begin'], entry['end']))\n",
    "        for i in motif_positions:\n",
    "            labels[i] = 1\n",
    "        total_scores = np.concatenate((total_scores, scores))\n",
    "        total_labels = np.concatenate((total_labels, labels))\n",
    "        per_seq_aurocs.append(roc_auc_score(y_true=labels, y_score=scores))\n",
    "        per_seq_auprcs.append(average_precision_score(y_true=labels, y_score=scores))\n",
    "    print(\"Method is \" + str(method))\n",
    "    print(\"Total auroc \" + str(roc_auc_score(y_true=total_labels, y_score=total_scores)))\n",
    "    print(\"Total auprc \" + str(average_precision_score(y_true=total_labels, y_score=total_scores)))\n",
    "    print(\"Mean per sequence auroc \" + str(np.mean(np.array(per_seq_aurocs))))\n",
    "    print(\"Mean per sequence auprc \" + str(np.mean(np.array(per_seq_auprcs))))\n",
    "    print(\"Per sequence auroc stderr \" + str(np.std(np.array(per_seq_aurocs))/np.sqrt(num_labels)))\n",
    "    print(\"Per sequence auprc stderr \" + str(np.std(np.array(per_seq_auprcs))/np.sqrt(num_labels)))\n",
    "    print(\"\\n\")\n",
    "    assert(len(per_seq_aurocs) == 10000)\n",
    "    per_seq_aurocs.clear()\n",
    "    per_seq_auprcs.clear()"
   ]
  }
 ],
 "metadata": {
  "anaconda-cloud": {},
  "kernelspec": {
   "display_name": "Python 3",
   "language": "python",
   "name": "python3"
  },
  "language_info": {
   "codemirror_mode": {
    "name": "ipython",
    "version": 3
   },
   "file_extension": ".py",
   "mimetype": "text/x-python",
   "name": "python",
   "nbconvert_exporter": "python",
   "pygments_lexer": "ipython3",
   "version": "3.7.6"
  }
 },
 "nbformat": 4,
 "nbformat_minor": 2
}
